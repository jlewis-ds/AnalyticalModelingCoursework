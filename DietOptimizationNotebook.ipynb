{
 "cells": [
  {
   "cell_type": "markdown",
   "metadata": {},
   "source": [
    "1) Formulate an optimization model (a linear program) to find the cheapest diet that satisfies the\n",
    "maximum and minimum daily nutrition constraints, and solve it using PuLP. Turn in your code\n",
    "and the solution. (The optimal solution should be a diet of air-popped popcorn, poached eggs,\n",
    "oranges, raw iceberg lettuce, raw celery, and frozen broccoli. UGH!)\n"
   ]
  },
  {
   "cell_type": "code",
   "execution_count": 1,
   "metadata": {},
   "outputs": [],
   "source": [
    "#Begin by importing packages\n",
    "from pulp import *\n",
    "import numpy as np\n",
    "import pandas as pd"
   ]
  },
  {
   "cell_type": "code",
   "execution_count": 2,
   "metadata": {},
   "outputs": [
    {
     "data": {
      "text/html": [
       "<div>\n",
       "<style scoped>\n",
       "    .dataframe tbody tr th:only-of-type {\n",
       "        vertical-align: middle;\n",
       "    }\n",
       "\n",
       "    .dataframe tbody tr th {\n",
       "        vertical-align: top;\n",
       "    }\n",
       "\n",
       "    .dataframe thead th {\n",
       "        text-align: right;\n",
       "    }\n",
       "</style>\n",
       "<table border=\"1\" class=\"dataframe\">\n",
       "  <thead>\n",
       "    <tr style=\"text-align: right;\">\n",
       "      <th></th>\n",
       "      <th>Foods</th>\n",
       "      <th>Price/ Serving</th>\n",
       "      <th>Serving Size</th>\n",
       "      <th>Calories</th>\n",
       "      <th>Cholesterol mg</th>\n",
       "      <th>Total_Fat g</th>\n",
       "      <th>Sodium mg</th>\n",
       "      <th>Carbohydrates g</th>\n",
       "      <th>Dietary_Fiber g</th>\n",
       "      <th>Protein g</th>\n",
       "      <th>Vit_A IU</th>\n",
       "      <th>Vit_C IU</th>\n",
       "      <th>Calcium mg</th>\n",
       "      <th>Iron mg</th>\n",
       "    </tr>\n",
       "  </thead>\n",
       "  <tbody>\n",
       "    <tr>\n",
       "      <th>59</th>\n",
       "      <td>Neweng Clamchwd</td>\n",
       "      <td>0.75</td>\n",
       "      <td>1 C (8 Fl Oz)</td>\n",
       "      <td>175.7</td>\n",
       "      <td>10.0</td>\n",
       "      <td>5.0</td>\n",
       "      <td>1864.9</td>\n",
       "      <td>21.8</td>\n",
       "      <td>1.5</td>\n",
       "      <td>10.9</td>\n",
       "      <td>20.1</td>\n",
       "      <td>4.8</td>\n",
       "      <td>82.8</td>\n",
       "      <td>2.8</td>\n",
       "    </tr>\n",
       "    <tr>\n",
       "      <th>60</th>\n",
       "      <td>Tomato Soup</td>\n",
       "      <td>0.39</td>\n",
       "      <td>1 C (8 Fl Oz)</td>\n",
       "      <td>170.7</td>\n",
       "      <td>0.0</td>\n",
       "      <td>3.8</td>\n",
       "      <td>1744.4</td>\n",
       "      <td>33.2</td>\n",
       "      <td>1.0</td>\n",
       "      <td>4.1</td>\n",
       "      <td>1393.0</td>\n",
       "      <td>133.0</td>\n",
       "      <td>27.6</td>\n",
       "      <td>3.5</td>\n",
       "    </tr>\n",
       "    <tr>\n",
       "      <th>61</th>\n",
       "      <td>New E Clamchwd,W/Mlk</td>\n",
       "      <td>0.99</td>\n",
       "      <td>1 C (8 Fl Oz)</td>\n",
       "      <td>163.7</td>\n",
       "      <td>22.3</td>\n",
       "      <td>6.6</td>\n",
       "      <td>992.0</td>\n",
       "      <td>16.6</td>\n",
       "      <td>1.5</td>\n",
       "      <td>9.5</td>\n",
       "      <td>163.7</td>\n",
       "      <td>3.5</td>\n",
       "      <td>186.0</td>\n",
       "      <td>1.5</td>\n",
       "    </tr>\n",
       "    <tr>\n",
       "      <th>62</th>\n",
       "      <td>Crm Mshrm Soup,W/Mlk</td>\n",
       "      <td>0.65</td>\n",
       "      <td>1 C (8 Fl Oz)</td>\n",
       "      <td>203.4</td>\n",
       "      <td>19.8</td>\n",
       "      <td>13.6</td>\n",
       "      <td>1076.3</td>\n",
       "      <td>15.0</td>\n",
       "      <td>0.5</td>\n",
       "      <td>6.1</td>\n",
       "      <td>153.8</td>\n",
       "      <td>2.2</td>\n",
       "      <td>178.6</td>\n",
       "      <td>0.6</td>\n",
       "    </tr>\n",
       "    <tr>\n",
       "      <th>63</th>\n",
       "      <td>Beanbacn Soup,W/Watr</td>\n",
       "      <td>0.67</td>\n",
       "      <td>1 C (8 Fl Oz)</td>\n",
       "      <td>172.0</td>\n",
       "      <td>2.5</td>\n",
       "      <td>5.9</td>\n",
       "      <td>951.3</td>\n",
       "      <td>22.8</td>\n",
       "      <td>8.6</td>\n",
       "      <td>7.9</td>\n",
       "      <td>888.0</td>\n",
       "      <td>1.5</td>\n",
       "      <td>81.0</td>\n",
       "      <td>2.0</td>\n",
       "    </tr>\n",
       "  </tbody>\n",
       "</table>\n",
       "</div>"
      ],
      "text/plain": [
       "                   Foods  Price/ Serving   Serving Size  Calories  \\\n",
       "59       Neweng Clamchwd            0.75  1 C (8 Fl Oz)     175.7   \n",
       "60           Tomato Soup            0.39  1 C (8 Fl Oz)     170.7   \n",
       "61  New E Clamchwd,W/Mlk            0.99  1 C (8 Fl Oz)     163.7   \n",
       "62  Crm Mshrm Soup,W/Mlk            0.65  1 C (8 Fl Oz)     203.4   \n",
       "63  Beanbacn Soup,W/Watr            0.67  1 C (8 Fl Oz)     172.0   \n",
       "\n",
       "    Cholesterol mg  Total_Fat g  Sodium mg  Carbohydrates g  Dietary_Fiber g  \\\n",
       "59            10.0          5.0     1864.9             21.8              1.5   \n",
       "60             0.0          3.8     1744.4             33.2              1.0   \n",
       "61            22.3          6.6      992.0             16.6              1.5   \n",
       "62            19.8         13.6     1076.3             15.0              0.5   \n",
       "63             2.5          5.9      951.3             22.8              8.6   \n",
       "\n",
       "    Protein g  Vit_A IU  Vit_C IU  Calcium mg  Iron mg  \n",
       "59       10.9      20.1       4.8        82.8      2.8  \n",
       "60        4.1    1393.0     133.0        27.6      3.5  \n",
       "61        9.5     163.7       3.5       186.0      1.5  \n",
       "62        6.1     153.8       2.2       178.6      0.6  \n",
       "63        7.9     888.0       1.5        81.0      2.0  "
      ]
     },
     "execution_count": 2,
     "metadata": {},
     "output_type": "execute_result"
    }
   ],
   "source": [
    "#Import the data\n",
    "data = pd.read_excel('diet.xls')\n",
    "\n",
    "#Small file so visually inspected to find where the minimums and maximums were defined\n",
    "mins = data.iloc[65, 3:]\n",
    "maxes = data.iloc[66, 3:]\n",
    "\n",
    "#Select only the subset with the foods and associated values for data\n",
    "data = data.iloc[:64, :]\n",
    "\n",
    "#Grab the column names\n",
    "columns = list(data.columns)\n",
    "\n",
    "#Confirm the bottom of the dataframe is still valid\n",
    "data.tail()"
   ]
  },
  {
   "cell_type": "code",
   "execution_count": 3,
   "metadata": {},
   "outputs": [],
   "source": [
    "#Define the problem to be solved, and if it is to be min/max optimized\n",
    "problem = LpProblem('Simple Diet Problem', LpMinimize)"
   ]
  },
  {
   "cell_type": "code",
   "execution_count": 4,
   "metadata": {},
   "outputs": [],
   "source": [
    "#Make a vector of variables containing a variable for each food\n",
    "x = [0]*len(data)\n",
    "for i, row in data.iterrows():\n",
    "    x[i] = LpVariable(row['Foods'], 0, None, LpContinuous)"
   ]
  },
  {
   "cell_type": "code",
   "execution_count": 5,
   "metadata": {},
   "outputs": [],
   "source": [
    "#Add the objective function by multiplying each variable by its associated cost, \n",
    "#and summing them all up\n",
    "problem += sum(data['Price/ Serving']*x)"
   ]
  },
  {
   "cell_type": "code",
   "execution_count": 6,
   "metadata": {},
   "outputs": [],
   "source": [
    "#Add the constraints (amounts < 0  were addressed in variable definitions)\n",
    "for nutrient in columns[3:]:\n",
    "    problem += sum(x*data[nutrient]) >= mins[nutrient]\n",
    "    problem += sum(x*data[nutrient]) <= maxes[nutrient]"
   ]
  },
  {
   "cell_type": "code",
   "execution_count": 7,
   "metadata": {},
   "outputs": [],
   "source": [
    "#Write the output file\n",
    "problem.writeLP(\"SimpleDiet.lp\")"
   ]
  },
  {
   "cell_type": "code",
   "execution_count": 8,
   "metadata": {},
   "outputs": [
    {
     "data": {
      "text/plain": [
       "'Optimal'"
      ]
     },
     "execution_count": 8,
     "metadata": {},
     "output_type": "execute_result"
    }
   ],
   "source": [
    "#Solve the problem\n",
    "problem.solve()\n",
    "pulp.LpStatus[problem.status]"
   ]
  },
  {
   "cell_type": "code",
   "execution_count": 9,
   "metadata": {},
   "outputs": [
    {
     "name": "stdout",
     "output_type": "stream",
     "text": [
      "Celery,_Raw = 52.64371\n",
      "Frozen_Broccoli = 0.25960653\n",
      "Lettuce,Iceberg,Raw = 63.988506\n",
      "Oranges = 2.2929389\n",
      "Poached_Eggs = 0.14184397\n",
      "Popcorn,Air_Popped = 13.869322\n"
     ]
    }
   ],
   "source": [
    "#Print out any food with a solved value greater than 0\n",
    "for v in problem.variables():\n",
    "    if v.varValue > 0.0:\n",
    "        print(v.name, '=', v.varValue)"
   ]
  },
  {
   "cell_type": "code",
   "execution_count": 10,
   "metadata": {},
   "outputs": [
    {
     "name": "stdout",
     "output_type": "stream",
     "text": [
      "\n",
      "Total Cost of Ingredients per day = $ 4.34\n"
     ]
    }
   ],
   "source": [
    "#The optimised cost value can be printed as well\n",
    "print(\"\\nTotal Cost of Ingredients per day = $\",round(value(problem.objective),2))"
   ]
  },
  {
   "cell_type": "code",
   "execution_count": 11,
   "metadata": {},
   "outputs": [
    {
     "name": "stdout",
     "output_type": "stream",
     "text": [
      "Optimal \n",
      "\n",
      "Diet consists of: \n",
      "\n",
      "Celery,_Raw = 41.0\n",
      "Kiwifruit,Raw,Fresh = 1.0\n",
      "Lettuce,Iceberg,Raw = 91.0\n",
      "Oranges = 2.0\n",
      "Poached_Eggs = 1.0\n",
      "Popcorn,Air_Popped = 14.0\n",
      "\n",
      "Total Cost of Ingredients per day = $ 4.89\n"
     ]
    }
   ],
   "source": [
    "#Also just for fun, if we do the same process but insist on having integer \n",
    "#values of servings, the results are almost identical\n",
    "#but there is a kiwi thrown in and broccoli being removed in favour of more\n",
    "#lettuce and a very small price increase\n",
    "\n",
    "#Define the problem to be solved, and if it is to be min/max optimized\n",
    "problem = LpProblem('Simple Diet Problem', LpMinimize)\n",
    "\n",
    "#Make a vector of variables containing a variable for each food\n",
    "x = [0]*len(data)\n",
    "for i, row in data.iterrows():\n",
    "    x[i] = LpVariable(row['Foods'], 0, None, LpInteger)\n",
    "\n",
    "#Add the objective function by multiplying each variable by its associated cost,\n",
    "#and summing them all up\n",
    "problem += sum(data['Price/ Serving']*x)\n",
    "\n",
    "#Add the constraints (amounts < 0  were addressed in variable definitions)\n",
    "for nutrient in columns[3:]:\n",
    "    problem += sum(x*data[nutrient]) >= mins[nutrient]\n",
    "    problem += sum(x*data[nutrient]) <= maxes[nutrient]\n",
    "    \n",
    "#Write the output file\n",
    "problem.writeLP(\"SimpleDiet.lp\")\n",
    "\n",
    "#Solve the problem\n",
    "problem.solve()\n",
    "print(pulp.LpStatus[problem.status], '\\n')\n",
    "\n",
    "#Print out any food with a solved value greater than 0\n",
    "print('Diet consists of: \\n')\n",
    "for v in problem.variables():\n",
    "    if v.varValue > 0.0:\n",
    "        print(v.name, '=', v.varValue)\n",
    "\n",
    "#The optimised cost value can be printed as well\n",
    "print(\"\\nTotal Cost of Ingredients per day = $\",round(value(problem.objective),2))"
   ]
  },
  {
   "cell_type": "markdown",
   "metadata": {},
   "source": [
    "2. Please add to your model the following constraints (which might require adding more variables)\n",
    "and solve the new model:\n",
    "\n",
    "a. If a food is selected, then a minimum of 1/10 serving must be chosen. (Hint: now you will\n",
    "need two variables for each food i: whether it is chosen, and how much is part of the diet.\n",
    "You’ll also need to write a constraint to link them.)\n"
   ]
  },
  {
   "cell_type": "code",
   "execution_count": 12,
   "metadata": {},
   "outputs": [],
   "source": [
    "#Define the upper/lower limits to be used for indicator variables\n",
    "MIN = 0\n",
    "MAX = 1000\n",
    "\n",
    "#Define the problem to be solved, and if it is to be min/max optimized\n",
    "a_problem = LpProblem('Simple Diet Problem - 2a', LpMinimize)"
   ]
  },
  {
   "cell_type": "code",
   "execution_count": 13,
   "metadata": {},
   "outputs": [],
   "source": [
    "#Make a vector of variables containing a variable for each food\n",
    "x = [0]*len(data)\n",
    "for i, row in data.iterrows():\n",
    "    x[i] = LpVariable(row['Foods'], 0, None, LpContinuous)"
   ]
  },
  {
   "cell_type": "code",
   "execution_count": 14,
   "metadata": {},
   "outputs": [],
   "source": [
    "#And the binary variable for if they are included\n",
    "incl = LpVariable.dicts('Included', x, 0, 1, LpInteger)"
   ]
  },
  {
   "cell_type": "code",
   "execution_count": 15,
   "metadata": {},
   "outputs": [],
   "source": [
    "#Add the objective function by multiplying each variable by its associated cost, \n",
    "#and summing them all up\n",
    "a_problem += sum(data['Price/ Serving']*x)"
   ]
  },
  {
   "cell_type": "code",
   "execution_count": 16,
   "metadata": {},
   "outputs": [],
   "source": [
    "#Add the constraints for minimum and maximum nutritional values \n",
    "#(amounts < 0  were addressed in variable definitions)\n",
    "for nutrient in columns[3:]:\n",
    "    a_problem += sum(x*data[nutrient]) >= mins[nutrient]\n",
    "    a_problem += sum(x*data[nutrient]) <= maxes[nutrient]\n",
    "    \n",
    "#Add a constraint so the binary variables actually work\n",
    "for i,food in enumerate(x):\n",
    "    a_problem += x[i] <= MAX*incl[x[i]]\n",
    "    a_problem += x[i] >= MIN*incl[x[i]]\n",
    "\n",
    "#Constrain the amount of food to be at least 0.1 serving if it is included, \n",
    "#if it is not then incl[food]*0.1 returns 0\n",
    "for i,food in enumerate(x):\n",
    "    a_problem += x[i] >= incl[x[i]]*(0.1)"
   ]
  },
  {
   "cell_type": "code",
   "execution_count": 17,
   "metadata": {
    "scrolled": true
   },
   "outputs": [
    {
     "name": "stdout",
     "output_type": "stream",
     "text": [
      "Result is: Optimal \n",
      "\n",
      "Diet consists of: \n",
      "\n",
      "Celery,_Raw = 52.64371\n",
      "Frozen_Broccoli = 0.25960653\n",
      "Included_Celery,_Raw = 1.0\n",
      "Included_Frozen_Broccoli = 1.0\n",
      "Included_Lettuce,Iceberg,Raw = 1.0\n",
      "Included_Oranges = 1.0\n",
      "Included_Poached_Eggs = 1.0\n",
      "Included_Popcorn,Air_Popped = 1.0\n",
      "Lettuce,Iceberg,Raw = 63.988506\n",
      "Oranges = 2.2929389\n",
      "Poached_Eggs = 0.14184397\n",
      "Popcorn,Air_Popped = 13.869322\n",
      "\n",
      "Total Cost of Ingredients per day = $ 4.34\n"
     ]
    }
   ],
   "source": [
    "#Write the output file\n",
    "a_problem.writeLP(\"SimpleDiet_A.lp\")\n",
    "\n",
    "#Solve the problem\n",
    "a_problem.solve()\n",
    "\n",
    "#Print result\n",
    "print('Result is:', pulp.LpStatus[a_problem.status], '\\n')\n",
    "#Print out any food with a solved value greater than 0\n",
    "print('Diet consists of: \\n')\n",
    "for v in a_problem.variables():\n",
    "    if v.varValue > 0.0:\n",
    "        print(v.name, '=', v.varValue)\n",
    "\n",
    "#The optimised cost value can be printed as well\n",
    "print(\"\\nTotal Cost of Ingredients per day = $\",round(value(a_problem.objective),2))"
   ]
  },
  {
   "cell_type": "markdown",
   "metadata": {},
   "source": [
    "No change as a result of this constraint, but I would not expect there to be. Our original solution already had all amounts over 0.1 serving to begin with.\n",
    "\n",
    "\n",
    "b. Many people dislike celery and frozen broccoli. So at most one, but not both, can be\n",
    "selected.\n",
    "\n",
    "This is easy since we already have made the included/not binary variable. Going to add this to the same code from above."
   ]
  },
  {
   "cell_type": "code",
   "execution_count": 18,
   "metadata": {},
   "outputs": [
    {
     "name": "stdout",
     "output_type": "stream",
     "text": [
      "Result is: Optimal \n",
      "\n",
      "Diet consists of: \n",
      "\n",
      "Celery,_Raw = 43.154119\n",
      "Lettuce,Iceberg,Raw = 80.919121\n",
      "Oranges = 3.0765161\n",
      "Poached_Eggs = 0.14184397\n",
      "Peanut_Butter = 2.0464575\n",
      "Popcorn,Air_Popped = 13.181772\n",
      "\n",
      "Included foods:\n",
      "\n",
      "Included_Celery,_Raw\n",
      "Included_Lettuce,Iceberg,Raw\n",
      "Included_Oranges\n",
      "Included_Poached_Eggs\n",
      "Included_Peanut_Butter\n",
      "Included_Popcorn,Air_Popped\n",
      "\n",
      "Total Cost of Ingredients per day = $ 4.49\n"
     ]
    }
   ],
   "source": [
    "b_problem = LpProblem('Simple Diet Problem - 2b', LpMinimize)\n",
    "\n",
    "#Make a vector of variables containing a variable for each food\n",
    "x = [0]*len(data)\n",
    "for i, row in data.iterrows():\n",
    "    x[i] = LpVariable(row['Foods'], 0, None, LpContinuous)\n",
    "    \n",
    "#And the binary variable for if they are included\n",
    "incl = LpVariable.dicts('Included', x, 0, 1, LpInteger)\n",
    "\n",
    "#Add the objective function by multiplying each variable by its associated cost, \n",
    "#and summing them all up\n",
    "b_problem += sum(data['Price/ Serving']*x), 'Minimize the cost'\n",
    "\n",
    "\n",
    "#Add the constraints for minimum and maximum nutritional values \n",
    "#(amounts < 0  were addressed in variable definitions)\n",
    "for nutrient in columns[3:]:\n",
    "    b_problem += sum(x*data[nutrient]) >= mins[nutrient]\n",
    "    b_problem += sum(x*data[nutrient]) <= maxes[nutrient]\n",
    "    \n",
    "#Add a constraint so the binary variables actually work\n",
    "for i,food in enumerate(x):\n",
    "    b_problem += x[i] <= MAX*incl[x[i]]\n",
    "    b_problem += x[i] >= MIN*incl[x[i]]\n",
    "    \n",
    "#Constrain the amount of food to be at least 0.1 serving if it is included, \n",
    "#if it is not then incl[food]*0.1 returns 0\n",
    "for i,food in enumerate(x):\n",
    "    b_problem += x[i] >= incl[x[i]]*(0.1)\n",
    "    \n",
    "#Constrain broccoli or celery\n",
    "b_problem += incl[x[0]] + incl[x[2]] <= 1\n",
    "\n",
    "#Write the output file\n",
    "b_problem.writeLP(\"SimpleDiet_B.lp\")\n",
    "\n",
    "#Solve the problem\n",
    "b_problem.solve()\n",
    "\n",
    "#Print result\n",
    "print('Result is:', pulp.LpStatus[b_problem.status], '\\n')\n",
    "\n",
    "#Print out any food with a solved value greater than 0 which was included\n",
    "print('Diet consists of: \\n')\n",
    "for v in range(0, len(x)):\n",
    "    if x[v].varValue > 0.0:\n",
    "        print(x[v], '=', x[v].varValue)\n",
    "        \n",
    "print('\\nIncluded foods:\\n')\n",
    "for i in range(0, len(incl)):\n",
    "    if incl[x[i]].varValue == 1:\n",
    "        print(incl[x[i]])\n",
    "\n",
    "\n",
    "#The optimised cost value can be printed as well\n",
    "print(\"\\nTotal Cost of Ingredients per day = $\",round(value(b_problem.objective),2))"
   ]
  },
  {
   "cell_type": "markdown",
   "metadata": {},
   "source": [
    "So we end up with celery instead of the broccoli, increasing the amount of lettuce and oranges while reducing celery. The cost also rose slightly due to this new constraint."
   ]
  },
  {
   "cell_type": "markdown",
   "metadata": {},
   "source": [
    "c. To get day-to-day variety in protein, at least 3 kinds of meat/poultry/fish/eggs must be\n",
    "selected. [If something is ambiguous (e.g., should bean-and-bacon soup be considered\n",
    "meat?), just call it whatever you think is appropriate – I want you to learn how to write this\n",
    "type of constraint, but I don’t really care whether we agree on how to classify foods!]"
   ]
  },
  {
   "cell_type": "markdown",
   "metadata": {},
   "source": [
    "So to begin the problem we should look over the foods and decide which ones are considered proteins, and which ones are not."
   ]
  },
  {
   "cell_type": "code",
   "execution_count": 19,
   "metadata": {},
   "outputs": [
    {
     "data": {
      "text/plain": [
       "0            Frozen Broccoli\n",
       "1                Carrots,Raw\n",
       "2                Celery, Raw\n",
       "3                Frozen Corn\n",
       "4        Lettuce,Iceberg,Raw\n",
       "5        Peppers, Sweet, Raw\n",
       "6            Potatoes, Baked\n",
       "7                       Tofu\n",
       "8            Roasted Chicken\n",
       "9         Spaghetti W/ Sauce\n",
       "10       Tomato,Red,Ripe,Raw\n",
       "11          Apple,Raw,W/Skin\n",
       "12                    Banana\n",
       "13                    Grapes\n",
       "14       Kiwifruit,Raw,Fresh\n",
       "15                   Oranges\n",
       "16                    Bagels\n",
       "17               Wheat Bread\n",
       "18               White Bread\n",
       "19           Oatmeal Cookies\n",
       "20                 Apple Pie\n",
       "21    Chocolate Chip Cookies\n",
       "22            Butter,Regular\n",
       "23            Cheddar Cheese\n",
       "24       3.3% Fat,Whole Milk\n",
       "25            2% Lowfat Milk\n",
       "26                 Skim Milk\n",
       "27              Poached Eggs\n",
       "28            Scrambled Eggs\n",
       "29            Bologna,Turkey\n",
       "Name: Foods, dtype: object"
      ]
     },
     "execution_count": 19,
     "metadata": {},
     "output_type": "execute_result"
    }
   ],
   "source": [
    "data['Foods'][0:30]"
   ]
  },
  {
   "cell_type": "code",
   "execution_count": 20,
   "metadata": {},
   "outputs": [
    {
     "data": {
      "text/plain": [
       "30       Frankfurter, Beef\n",
       "31    Ham,Sliced,Extralean\n",
       "32            Kielbasa,Prk\n",
       "33            Cap'N Crunch\n",
       "34                Cheerios\n",
       "35    Corn Flks, Kellogg'S\n",
       "36     Raisin Brn, Kellg'S\n",
       "37           Rice Krispies\n",
       "38               Special K\n",
       "39                 Oatmeal\n",
       "40        Malt-O-Meal,Choc\n",
       "41       Pizza W/Pepperoni\n",
       "42                    Taco\n",
       "43    Hamburger W/Toppings\n",
       "44           Hotdog, Plain\n",
       "45                Couscous\n",
       "46              White Rice\n",
       "47            Macaroni,Ckd\n",
       "48           Peanut Butter\n",
       "49                    Pork\n",
       "50         Sardines in Oil\n",
       "51     White Tuna in Water\n",
       "52      Popcorn,Air-Popped\n",
       "53    Potato Chips,Bbqflvr\n",
       "54                Pretzels\n",
       "55           Tortilla Chip\n",
       "56         Chicknoodl Soup\n",
       "57        Splt Pea&Hamsoup\n",
       "58          Vegetbeef Soup\n",
       "59         Neweng Clamchwd\n",
       "60             Tomato Soup\n",
       "61    New E Clamchwd,W/Mlk\n",
       "62    Crm Mshrm Soup,W/Mlk\n",
       "63    Beanbacn Soup,W/Watr\n",
       "Name: Foods, dtype: object"
      ]
     },
     "execution_count": 20,
     "metadata": {},
     "output_type": "execute_result"
    }
   ],
   "source": [
    "data['Foods'][30:]"
   ]
  },
  {
   "cell_type": "code",
   "execution_count": 21,
   "metadata": {},
   "outputs": [
    {
     "data": {
      "text/plain": [
       "7                     Tofu\n",
       "8          Roasted Chicken\n",
       "27            Poached Eggs\n",
       "28          Scrambled Eggs\n",
       "29          Bologna,Turkey\n",
       "30       Frankfurter, Beef\n",
       "31    Ham,Sliced,Extralean\n",
       "32            Kielbasa,Prk\n",
       "43    Hamburger W/Toppings\n",
       "44           Hotdog, Plain\n",
       "49                    Pork\n",
       "50         Sardines in Oil\n",
       "51     White Tuna in Water\n",
       "Name: Foods, dtype: object"
      ]
     },
     "execution_count": 21,
     "metadata": {},
     "output_type": "execute_result"
    }
   ],
   "source": [
    "#Looking over the entire frame, I am going to ignore marginal protein sources \n",
    "#and drinks (milks)\n",
    "\n",
    "#From what I can see these are the indexes with large protein sources\n",
    "data['Foods'].iloc[[7,8,27,28,29,30,31,32,43,44,49,50,51]]"
   ]
  },
  {
   "cell_type": "code",
   "execution_count": 22,
   "metadata": {},
   "outputs": [],
   "source": [
    "#Make a new list with 0/1 flags for is protein. \n",
    "#Since this is a base truth, I'm going to define it outside of the problem\n",
    "p_inds = [7,8,27,28,29,30,31,32,43,44,49,50,51]\n",
    "\n",
    "#Start with all 0 values\n",
    "is_protein = [0]*len(data)\n",
    "\n",
    "#Write a 1 to all locations which correspond to a protein in the data\n",
    "for loc in p_inds:\n",
    "    is_protein[loc] = 1"
   ]
  },
  {
   "cell_type": "code",
   "execution_count": 23,
   "metadata": {},
   "outputs": [
    {
     "name": "stdout",
     "output_type": "stream",
     "text": [
      "Result is: Optimal \n",
      "\n",
      "Diet consists of: \n",
      "\n",
      "Celery,_Raw = 42.399358\n",
      "Lettuce,Iceberg,Raw = 82.802586\n",
      "Oranges = 3.0771841\n",
      "Poached_Eggs = 0.1\n",
      "Scrambled_Eggs = 0.1\n",
      "Kielbasa,Prk = 0.1\n",
      "Peanut_Butter = 1.9429716\n",
      "Popcorn,Air_Popped = 13.223294\n",
      "\n",
      "Included foods:\n",
      "\n",
      "Included_Celery,_Raw\n",
      "Included_Lettuce,Iceberg,Raw\n",
      "Included_Oranges\n",
      "Included_Poached_Eggs\n",
      "Included_Scrambled_Eggs\n",
      "Included_Kielbasa,Prk\n",
      "Included_Peanut_Butter\n",
      "Included_Popcorn,Air_Popped\n",
      "\n",
      "Total Cost of Ingredients per day = $ 4.51\n"
     ]
    }
   ],
   "source": [
    "c_problem = LpProblem('Simple Diet Problem - 2c', LpMinimize)\n",
    "\n",
    "#Make a vector of variables containing a variable for each food\n",
    "x = [0]*len(data)\n",
    "for i, row in data.iterrows():\n",
    "    x[i] = LpVariable(row['Foods'], 0, None, LpContinuous)\n",
    "    \n",
    "#And the binary variable for if they are included\n",
    "incl = LpVariable.dicts('Included', x, 0, 1, LpInteger)\n",
    "\n",
    "#Add the objective function by multiplying each variable by its associated cost, \n",
    "#and summing them all up\n",
    "c_problem += sum(data['Price/ Serving']*x), 'Minimize the cost'\n",
    "\n",
    "\n",
    "#Add the constraints for minimum and maximum nutritional values\n",
    "#(amounts < 0  were addressed in variable definitions)\n",
    "for nutrient in columns[3:]:\n",
    "    c_problem += sum(x*data[nutrient]) >= mins[nutrient]\n",
    "    c_problem += sum(x*data[nutrient]) <= maxes[nutrient]\n",
    "    \n",
    "#Add a constraint so the binary variables actually work\n",
    "for i,food in enumerate(x):\n",
    "    c_problem += x[i] <= MAX*incl[x[i]]\n",
    "    c_problem += x[i] >= MIN*incl[x[i]]\n",
    "    \n",
    "#Constrain the amount of food to be at least 0.1 serving if it is included, \n",
    "#if it is not then incl[food]*0.1 returns 0\n",
    "for i,food in enumerate(x):\n",
    "    c_problem += x[i] >= incl[x[i]]*(0.1)\n",
    "    \n",
    "#Constrain broccoli or celery\n",
    "c_problem += incl[x[0]] + incl[x[2]] <= 1\n",
    "\n",
    "#Require at least 3 protein sources\n",
    "#This multiplies the included flag with the externally defined protein flag. \n",
    "#If something is included and a protein, the result will give a 1, otherwise a 0. \n",
    "#When summing up the list we require it to be >= 3 so 3 sources minimum are required.\n",
    "c_problem += lpSum([is_protein[i]*incl[x[i]] for i in range(0,len(x))]) >= 3\n",
    "\n",
    "#Write the output file\n",
    "c_problem.writeLP(\"SimpleDiet_C.lp\")\n",
    "\n",
    "#Solve the problem\n",
    "c_problem.solve()\n",
    "\n",
    "#Print result\n",
    "print('Result is:', pulp.LpStatus[c_problem.status], '\\n')\n",
    "\n",
    "#Print out any food with a solved value greater than 0 which was included\n",
    "print('Diet consists of: \\n')\n",
    "for v in range(0, len(x)):\n",
    "    if x[v].varValue > 0.0:\n",
    "        print(x[v], '=', x[v].varValue)\n",
    "print('\\nIncluded foods:\\n')\n",
    "for i in range(0, len(incl)):\n",
    "    if incl[x[i]].varValue == 1:\n",
    "        print(incl[x[i]])\n",
    "\n",
    "\n",
    "#The optimised cost value can be printed as well\n",
    "print(\"\\nTotal Cost of Ingredients per day = $\", round(value(c_problem.objective),2))"
   ]
  },
  {
   "cell_type": "markdown",
   "metadata": {},
   "source": [
    "So we get our bare minimum of 3 protein sources (Pork Kielbasa, Poached Eggs, Scrambled Eggs) and they were reduced as much as allowed by the constraints (0.1 serving size). This is likely due to the cost of meats being higher than sources like eggs."
   ]
  },
  {
   "cell_type": "code",
   "execution_count": 28,
   "metadata": {},
   "outputs": [
    {
     "data": {
      "text/plain": [
       "0.0"
      ]
     },
     "execution_count": 28,
     "metadata": {},
     "output_type": "execute_result"
    }
   ],
   "source": [
    "incl[x[1]].varValue"
   ]
  },
  {
   "cell_type": "code",
   "execution_count": 40,
   "metadata": {},
   "outputs": [
    {
     "data": {
      "text/plain": [
       "0.0"
      ]
     },
     "execution_count": 40,
     "metadata": {},
     "output_type": "execute_result"
    }
   ],
   "source": [
    "list(incl.keys())[0].varValue"
   ]
  },
  {
   "cell_type": "code",
   "execution_count": null,
   "metadata": {},
   "outputs": [],
   "source": []
  }
 ],
 "metadata": {
  "kernelspec": {
   "display_name": "Python 3",
   "language": "python",
   "name": "python3"
  },
  "language_info": {
   "codemirror_mode": {
    "name": "ipython",
    "version": 3
   },
   "file_extension": ".py",
   "mimetype": "text/x-python",
   "name": "python",
   "nbconvert_exporter": "python",
   "pygments_lexer": "ipython3",
   "version": "3.7.1"
  }
 },
 "nbformat": 4,
 "nbformat_minor": 2
}
